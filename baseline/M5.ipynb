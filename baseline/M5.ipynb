{
 "cells": [
  {
   "cell_type": "markdown",
   "metadata": {},
   "source": [
    "# 深度之眼 - Kaggle 比赛训练营\n",
    "## 比赛: M5 时序预测\n",
    "\n",
    "\n",
    "本 NoteBook 是 Kaggle M5 时序预测比赛的 Baseline，主要使用机器学习的建模方式进行时序的建模和预测。\n",
    "\n",
    "\n",
    "- **BaseLine步骤**：    \n",
    "                        1. 数据分析 EDA\n",
    "                        2. 特征工程\n",
    "                        3. 模型训练\n",
    "                        4. 线下验证\n",
    "\n",
    ">**提示：**Code 和 Markdown 区域可通过 **Shift + Enter** 快捷键运行。此外，Markdown可以通过双击进入编辑模式。\n",
    "\n",
    "---"
   ]
  },
  {
   "cell_type": "markdown",
   "metadata": {},
   "source": [
    "---\n",
    "## 一、数据分析\n",
    "\n",
    "为了节约时间，我们直接对我们后面建模有用的结果进行分析，关于数据的详细分析可以参考 [EDA](https://www.kaggle.com/headsortails/back-to-predict-the-future-interactive-m5-eda)\n",
    "\n",
    "- 查看 sales 数据前几行\n",
    "- 查看 sales 数据聚合结果趋势\n",
    "- 查看 sales 数据标签分布"
   ]
  },
  {
   "cell_type": "code",
   "execution_count": 6,
   "metadata": {},
   "outputs": [],
   "source": [
    "from matplotlib import pyplot as plt\n",
    "import pandas as pd\n",
    "import numpy as np\n",
    "pd.set_option('display.max_colwidth',100)"
   ]
  },
  {
   "cell_type": "code",
   "execution_count": 8,
   "metadata": {},
   "outputs": [],
   "source": [
    "sale_data = pd.read_csv('../input/m5-forecasting-accuracy/sales_train_validation.csv')"
   ]
  },
  {
   "cell_type": "code",
   "execution_count": 9,
   "metadata": {},
   "outputs": [
    {
     "data": {
      "text/plain": "                              id        item_id    dept_id   cat_id store_id  \\\n0  HOBBIES_1_001_CA_1_validation  HOBBIES_1_001  HOBBIES_1  HOBBIES     CA_1   \n1  HOBBIES_1_002_CA_1_validation  HOBBIES_1_002  HOBBIES_1  HOBBIES     CA_1   \n2  HOBBIES_1_003_CA_1_validation  HOBBIES_1_003  HOBBIES_1  HOBBIES     CA_1   \n3  HOBBIES_1_004_CA_1_validation  HOBBIES_1_004  HOBBIES_1  HOBBIES     CA_1   \n4  HOBBIES_1_005_CA_1_validation  HOBBIES_1_005  HOBBIES_1  HOBBIES     CA_1   \n\n  state_id  d_1  d_2  d_3  d_4  ...  d_1904  d_1905  d_1906  d_1907  d_1908  \\\n0       CA    0    0    0    0  ...       1       3       0       1       1   \n1       CA    0    0    0    0  ...       0       0       0       0       0   \n2       CA    0    0    0    0  ...       2       1       2       1       1   \n3       CA    0    0    0    0  ...       1       0       5       4       1   \n4       CA    0    0    0    0  ...       2       1       1       0       1   \n\n   d_1909  d_1910  d_1911  d_1912  d_1913  \n0       1       3       0       1       1  \n1       1       0       0       0       0  \n2       1       0       1       1       1  \n3       0       1       3       7       2  \n4       1       2       2       2       4  \n\n[5 rows x 1919 columns]",
      "text/html": "<div>\n<style scoped>\n    .dataframe tbody tr th:only-of-type {\n        vertical-align: middle;\n    }\n\n    .dataframe tbody tr th {\n        vertical-align: top;\n    }\n\n    .dataframe thead th {\n        text-align: right;\n    }\n</style>\n<table border=\"1\" class=\"dataframe\">\n  <thead>\n    <tr style=\"text-align: right;\">\n      <th></th>\n      <th>id</th>\n      <th>item_id</th>\n      <th>dept_id</th>\n      <th>cat_id</th>\n      <th>store_id</th>\n      <th>state_id</th>\n      <th>d_1</th>\n      <th>d_2</th>\n      <th>d_3</th>\n      <th>d_4</th>\n      <th>...</th>\n      <th>d_1904</th>\n      <th>d_1905</th>\n      <th>d_1906</th>\n      <th>d_1907</th>\n      <th>d_1908</th>\n      <th>d_1909</th>\n      <th>d_1910</th>\n      <th>d_1911</th>\n      <th>d_1912</th>\n      <th>d_1913</th>\n    </tr>\n  </thead>\n  <tbody>\n    <tr>\n      <th>0</th>\n      <td>HOBBIES_1_001_CA_1_validation</td>\n      <td>HOBBIES_1_001</td>\n      <td>HOBBIES_1</td>\n      <td>HOBBIES</td>\n      <td>CA_1</td>\n      <td>CA</td>\n      <td>0</td>\n      <td>0</td>\n      <td>0</td>\n      <td>0</td>\n      <td>...</td>\n      <td>1</td>\n      <td>3</td>\n      <td>0</td>\n      <td>1</td>\n      <td>1</td>\n      <td>1</td>\n      <td>3</td>\n      <td>0</td>\n      <td>1</td>\n      <td>1</td>\n    </tr>\n    <tr>\n      <th>1</th>\n      <td>HOBBIES_1_002_CA_1_validation</td>\n      <td>HOBBIES_1_002</td>\n      <td>HOBBIES_1</td>\n      <td>HOBBIES</td>\n      <td>CA_1</td>\n      <td>CA</td>\n      <td>0</td>\n      <td>0</td>\n      <td>0</td>\n      <td>0</td>\n      <td>...</td>\n      <td>0</td>\n      <td>0</td>\n      <td>0</td>\n      <td>0</td>\n      <td>0</td>\n      <td>1</td>\n      <td>0</td>\n      <td>0</td>\n      <td>0</td>\n      <td>0</td>\n    </tr>\n    <tr>\n      <th>2</th>\n      <td>HOBBIES_1_003_CA_1_validation</td>\n      <td>HOBBIES_1_003</td>\n      <td>HOBBIES_1</td>\n      <td>HOBBIES</td>\n      <td>CA_1</td>\n      <td>CA</td>\n      <td>0</td>\n      <td>0</td>\n      <td>0</td>\n      <td>0</td>\n      <td>...</td>\n      <td>2</td>\n      <td>1</td>\n      <td>2</td>\n      <td>1</td>\n      <td>1</td>\n      <td>1</td>\n      <td>0</td>\n      <td>1</td>\n      <td>1</td>\n      <td>1</td>\n    </tr>\n    <tr>\n      <th>3</th>\n      <td>HOBBIES_1_004_CA_1_validation</td>\n      <td>HOBBIES_1_004</td>\n      <td>HOBBIES_1</td>\n      <td>HOBBIES</td>\n      <td>CA_1</td>\n      <td>CA</td>\n      <td>0</td>\n      <td>0</td>\n      <td>0</td>\n      <td>0</td>\n      <td>...</td>\n      <td>1</td>\n      <td>0</td>\n      <td>5</td>\n      <td>4</td>\n      <td>1</td>\n      <td>0</td>\n      <td>1</td>\n      <td>3</td>\n      <td>7</td>\n      <td>2</td>\n    </tr>\n    <tr>\n      <th>4</th>\n      <td>HOBBIES_1_005_CA_1_validation</td>\n      <td>HOBBIES_1_005</td>\n      <td>HOBBIES_1</td>\n      <td>HOBBIES</td>\n      <td>CA_1</td>\n      <td>CA</td>\n      <td>0</td>\n      <td>0</td>\n      <td>0</td>\n      <td>0</td>\n      <td>...</td>\n      <td>2</td>\n      <td>1</td>\n      <td>1</td>\n      <td>0</td>\n      <td>1</td>\n      <td>1</td>\n      <td>2</td>\n      <td>2</td>\n      <td>2</td>\n      <td>4</td>\n    </tr>\n  </tbody>\n</table>\n<p>5 rows × 1919 columns</p>\n</div>"
     },
     "execution_count": 9,
     "metadata": {},
     "output_type": "execute_result"
    }
   ],
   "source": [
    "sale_data.head(5)"
   ]
  },
  {
   "cell_type": "code",
   "execution_count": 10,
   "metadata": {},
   "outputs": [],
   "source": [
    "day_data = sale_data[[f'd_{day}' for day in range(1,1914)]]\n",
    "total_sum = np.sum(day_data,axis=0).values"
   ]
  },
  {
   "cell_type": "code",
   "execution_count": 11,
   "metadata": {},
   "outputs": [
    {
     "data": {
      "text/plain": "[<matplotlib.lines.Line2D at 0x1ca9c61f588>]"
     },
     "execution_count": 11,
     "metadata": {},
     "output_type": "execute_result"
    },
    {
     "data": {
      "text/plain": "<Figure size 432x288 with 1 Axes>",
      "image/png": "[encoded data removed]"
     },
     "metadata": {
      "needs_background": "light"
     },
     "output_type": "display_data"
    }
   ],
   "source": [
    "plt.plot(total_sum)"
   ]
  },
  {
   "cell_type": "code",
   "execution_count": 12,
   "metadata": {},
   "outputs": [
    {
     "name": "stderr",
     "output_type": "stream",
     "text": [
      "c:\\users\\huang\\appdata\\local\\programs\\python\\python37\\lib\\site-packages\\numpy\\lib\\histograms.py:839: RuntimeWarning: invalid value encountered in greater_equal\n",
      "  keep = (tmp_a >= first_edge)\n",
      "c:\\users\\huang\\appdata\\local\\programs\\python\\python37\\lib\\site-packages\\numpy\\lib\\histograms.py:840: RuntimeWarning: invalid value encountered in less_equal\n",
      "  keep &= (tmp_a <= last_edge)\n"
     ]
    },
    {
     "data": {
      "text/plain": "<Figure size 432x288 with 1 Axes>",
      "image/png": "[encoded data removed]"
     },
     "metadata": {
      "needs_background": "light"
     },
     "output_type": "display_data"
    }
   ],
   "source": [
    "plt.hist(day_data[day_data<100].values.reshape(-1),bins=100);"
   ]
  },
  {
   "cell_type": "markdown",
   "metadata": {},
   "source": [
    "---\n",
    "## 二、特征工程\n",
    "\n",
    "选定机器学习的建模方案，核心思想是对时间序列抽取窗口特征。\n",
    "\n",
    "<img src=\"机器学习建模.jpg\" style=\"width:1100px;height:500px;float:center\">\n",
    "\n",
    "\n",
    "\n",
    "抽取窗口特征：\n",
    "\n",
    "- 前7天\n",
    "- 前28天\n",
    "- 前7天均值\n",
    "- 前28天均值\n",
    "\n",
    "关联其他维度信息\n",
    "\n",
    "- 日期\n",
    "- 价格"
   ]
  },
  {
   "cell_type": "code",
   "execution_count": 21,
   "metadata": {},
   "outputs": [],
   "source": [
    "import sys\n",
    "import lightgbm as lgb\n",
    "\n",
    "from  datetime import datetime, timedelta"
   ]
  },
  {
   "cell_type": "code",
   "execution_count": 14,
   "metadata": {},
   "outputs": [],
   "source": [
    "def create_train_data(train_start=750,test_start=1800,is_train=True):\n",
    "    # 基本参数\n",
    "    PRICE_DTYPES = {\"store_id\": \"category\", \"item_id\": \"category\", \"wm_yr_wk\": \"int16\",\"sell_price\":\"float32\" }\n",
    "    CAL_DTYPES={\"event_name_1\": \"category\", \"event_name_2\": \"category\", \"event_type_1\": \"category\", \n",
    "            \"event_type_2\": \"category\", \"weekday\": \"category\", 'wm_yr_wk': 'int16', \"wday\": \"int16\",\n",
    "            \"month\": \"int16\", \"year\": \"int16\", \"snap_CA\": \"float32\", 'snap_TX': 'float32', 'snap_WI': 'float32' }\n",
    "\n",
    "\n",
    "    start_day = train_start if is_train else test_start\n",
    "    numcols = [f\"d_{day}\" for day in range(start_day,1914)]\n",
    "    catcols = ['id', 'item_id', 'dept_id','store_id', 'cat_id', 'state_id']\n",
    "    SALE_DTYPES = {numcol:\"float32\" for numcol in numcols} \n",
    "    SALE_DTYPES.update({col: \"category\" for col in catcols if col != \"id\"})\n",
    "\n",
    "    # 加载price数据\n",
    "    price_data = pd.read_csv('../input/m5-forecasting-accuracy/sell_prices.csv',dtype=PRICE_DTYPES)\n",
    "    # 加载cal数据\n",
    "    cal_data = pd.read_csv('../input/m5-forecasting-accuracy/calendar.csv',dtype=CAL_DTYPES)\n",
    "    # 加载sale数据\n",
    "    sale_data = pd.read_csv('../input/m5-forecasting-accuracy/sales_train_validation.csv',dtype=SALE_DTYPES,usecols=catcols+numcols)\n",
    "\n",
    "\n",
    "    # 类别标签转换\n",
    "    for col, col_dtype in PRICE_DTYPES.items():\n",
    "        if col_dtype == \"category\":\n",
    "            price_data[col] = price_data[col].cat.codes.astype(\"int16\")\n",
    "            price_data[col] -= price_data[col].min()\n",
    "\n",
    "    cal_data[\"date\"] = pd.to_datetime(cal_data[\"date\"])\n",
    "    for col, col_dtype in CAL_DTYPES.items():\n",
    "        if col_dtype == \"category\":\n",
    "            cal_data[col] = cal_data[col].cat.codes.astype(\"int16\")\n",
    "            cal_data[col] -= cal_data[col].min()\n",
    "\n",
    "\n",
    "    for col in catcols:\n",
    "        if col != \"id\":\n",
    "            sale_data[col] = sale_data[col].cat.codes.astype(\"int16\")\n",
    "            sale_data[col] -= sale_data[col].min()\n",
    "\n",
    "    # 注意提交格式里有一部分为空\n",
    "    if not is_train:\n",
    "        for day in range(1913+1, 1913+ 2*28 +1):\n",
    "            sale_data[f\"d_{day}\"] = np.nan\n",
    "\n",
    "    sale_data = pd.melt(sale_data,\n",
    "            id_vars = catcols,\n",
    "            value_vars = [col for col in sale_data.columns if col.startswith(\"d_\")],\n",
    "            var_name = \"d\",\n",
    "            value_name = \"sales\")\n",
    "    sale_data = sale_data.merge(cal_data, on= \"d\", copy = False)\n",
    "    sale_data = sale_data.merge(price_data, on = [\"store_id\", \"item_id\", \"wm_yr_wk\"], copy = False)\n",
    "    return sale_data\n",
    "\n",
    "\n",
    "def create_feature(sale_data, is_train=True, day=None):\n",
    "    # 可以在这里加入更多的特征抽取方法\n",
    "    # 获取7天前的数据，28天前的数据\n",
    "    lags = [7, 28]\n",
    "    lag_cols = [f\"lag_{lag}\" for lag in lags ]\n",
    "\n",
    "    # 如果是测试集只需要计算一天的特征，减少计算量\n",
    "    # 注意训练集和测试集特征生成要一致\n",
    "    if is_train:\n",
    "        for lag, lag_col in zip(lags, lag_cols):\n",
    "            sale_data[lag_col] = sale_data[[\"id\",\"sales\"]].groupby(\"id\")[\"sales\"].shift(lag)\n",
    "    else:\n",
    "        for lag, lag_col in zip(lags, lag_cols):\n",
    "            sale_data.loc[sale_data.date == day, lag_col] = sale_data.loc[sale_data.date ==day-timedelta(days=lag), 'sales'].values  \n",
    "\n",
    "\n",
    "    # 将获取7天前的数据，28天前的数据做移动平均\n",
    "    wins = [7, 28]\n",
    "\n",
    "    if is_train:\n",
    "        for win in wins :\n",
    "            for lag,lag_col in zip(lags, lag_cols):\n",
    "                sale_data[f\"rmean_{lag}_{win}\"] = sale_data[[\"id\", lag_col]].groupby(\"id\")[lag_col].transform(lambda x : x.rolling(win).mean())\n",
    "    else:\n",
    "        for win in wins:\n",
    "            for lag in lags:\n",
    "                df_window = sale_data[(sale_data.date <= day-timedelta(days=lag)) & (sale_data.date > day-timedelta(days=lag+win))]\n",
    "                df_window_grouped = df_window.groupby(\"id\").agg({'sales':'mean'}).reindex(sale_data.loc[sale_data.date==day,'id'])\n",
    "                sale_data.loc[sale_data.date == day,f\"rmean_{lag}_{win}\"] = df_window_grouped.sales.values   \n",
    "\n",
    "    # 处理时间特征\n",
    "    # 有的时间特征没有，通过datetime的方法自动生成\n",
    "    date_features = {\n",
    "            \"wday\": \"weekday\",\n",
    "            \"week\": \"weekofyear\",\n",
    "            \"month\": \"month\",\n",
    "            \"quarter\": \"quarter\",\n",
    "            \"year\": \"year\",\n",
    "            \"mday\": \"day\",\n",
    "        }\n",
    "\n",
    "    for date_feat_name, date_feat_func in date_features.items():\n",
    "        if date_feat_name in sale_data.columns:\n",
    "            sale_data[date_feat_name] = sale_data[date_feat_name].astype(\"int16\")\n",
    "        else:\n",
    "            sale_data[date_feat_name] = getattr(sale_data[\"date\"].dt, date_feat_func).astype(\"int16\")\n",
    "    return sale_data"
   ]
  },
  {
   "cell_type": "code",
   "execution_count": 15,
   "metadata": {},
   "outputs": [],
   "source": [
    "sale_data = create_train_data(train_start=350,is_train=True)\n",
    "sale_data = create_feature(sale_data)\n",
    "\n",
    "# 清洗数据，选择需要训练的数据\n",
    "sale_data.dropna(inplace=True)\n",
    "cat_feats = ['item_id', 'dept_id','store_id', 'cat_id', 'state_id'] + [\"event_name_1\", \"event_name_2\", \"event_type_1\", \"event_type_2\"]\n",
    "useless_cols = [\"id\", \"date\", \"sales\",\"d\", \"wm_yr_wk\", \"weekday\"]\n",
    "train_cols = sale_data.columns[~sale_data.columns.isin(useless_cols)]\n",
    "X_train = sale_data[train_cols]\n",
    "y_train = sale_data[\"sales\"]"
   ]
  },
  {
   "cell_type": "code",
   "execution_count": 16,
   "metadata": {},
   "outputs": [
    {
     "data": {
      "text/plain": "        item_id  dept_id  store_id  cat_id  state_id  wday  month  year  \\\n869062        1        0         0       0         0     6      3  2012   \n869063        1        0         0       0         0     7      3  2012   \n869069        3        0         0       0         0     6      3  2012   \n869070        3        0         0       0         0     7      3  2012   \n869076        4        0         0       0         0     6      3  2012   \n\n        event_name_1  event_type_1  ...  sell_price  lag_7  lag_28  rmean_7_7  \\\n869062            24             3  ...        3.97    0.0     0.0   0.000000   \n869063             0             0  ...        3.97    0.0     1.0   0.000000   \n869069            24             3  ...        4.34    3.0     2.0   1.857143   \n869070             0             0  ...        4.34    1.0     0.0   2.000000   \n869076            24             3  ...        2.98    0.0     0.0   0.000000   \n\n        rmean_28_7  rmean_7_28  rmean_28_28  week  quarter  mday  \n869062    0.142857    0.214286     0.214286    10        1     8  \n869063    0.142857    0.178571     0.250000    10        1     9  \n869069    1.142857    1.392857     1.678571    10        1     8  \n869070    1.000000    1.392857     1.607143    10        1     9  \n869076    1.857143    0.750000     0.642857    10        1     8  \n\n[5 rows x 25 columns]",
      "text/html": "<div>\n<style scoped>\n    .dataframe tbody tr th:only-of-type {\n        vertical-align: middle;\n    }\n\n    .dataframe tbody tr th {\n        vertical-align: top;\n    }\n\n    .dataframe thead th {\n        text-align: right;\n    }\n</style>\n<table border=\"1\" class=\"dataframe\">\n  <thead>\n    <tr style=\"text-align: right;\">\n      <th></th>\n      <th>item_id</th>\n      <th>dept_id</th>\n      <th>store_id</th>\n      <th>cat_id</th>\n      <th>state_id</th>\n      <th>wday</th>\n      <th>month</th>\n      <th>year</th>\n      <th>event_name_1</th>\n      <th>event_type_1</th>\n      <th>...</th>\n      <th>sell_price</th>\n      <th>lag_7</th>\n      <th>lag_28</th>\n      <th>rmean_7_7</th>\n      <th>rmean_28_7</th>\n      <th>rmean_7_28</th>\n      <th>rmean_28_28</th>\n      <th>week</th>\n      <th>quarter</th>\n      <th>mday</th>\n    </tr>\n  </thead>\n  <tbody>\n    <tr>\n      <th>869062</th>\n      <td>1</td>\n      <td>0</td>\n      <td>0</td>\n      <td>0</td>\n      <td>0</td>\n      <td>6</td>\n      <td>3</td>\n      <td>2012</td>\n      <td>24</td>\n      <td>3</td>\n      <td>...</td>\n      <td>3.97</td>\n      <td>0.0</td>\n      <td>0.0</td>\n      <td>0.000000</td>\n      <td>0.142857</td>\n      <td>0.214286</td>\n      <td>0.214286</td>\n      <td>10</td>\n      <td>1</td>\n      <td>8</td>\n    </tr>\n    <tr>\n      <th>869063</th>\n      <td>1</td>\n      <td>0</td>\n      <td>0</td>\n      <td>0</td>\n      <td>0</td>\n      <td>7</td>\n      <td>3</td>\n      <td>2012</td>\n      <td>0</td>\n      <td>0</td>\n      <td>...</td>\n      <td>3.97</td>\n      <td>0.0</td>\n      <td>1.0</td>\n      <td>0.000000</td>\n      <td>0.142857</td>\n      <td>0.178571</td>\n      <td>0.250000</td>\n      <td>10</td>\n      <td>1</td>\n      <td>9</td>\n    </tr>\n    <tr>\n      <th>869069</th>\n      <td>3</td>\n      <td>0</td>\n      <td>0</td>\n      <td>0</td>\n      <td>0</td>\n      <td>6</td>\n      <td>3</td>\n      <td>2012</td>\n      <td>24</td>\n      <td>3</td>\n      <td>...</td>\n      <td>4.34</td>\n      <td>3.0</td>\n      <td>2.0</td>\n      <td>1.857143</td>\n      <td>1.142857</td>\n      <td>1.392857</td>\n      <td>1.678571</td>\n      <td>10</td>\n      <td>1</td>\n      <td>8</td>\n    </tr>\n    <tr>\n      <th>869070</th>\n      <td>3</td>\n      <td>0</td>\n      <td>0</td>\n      <td>0</td>\n      <td>0</td>\n      <td>7</td>\n      <td>3</td>\n      <td>2012</td>\n      <td>0</td>\n      <td>0</td>\n      <td>...</td>\n      <td>4.34</td>\n      <td>1.0</td>\n      <td>0.0</td>\n      <td>2.000000</td>\n      <td>1.000000</td>\n      <td>1.392857</td>\n      <td>1.607143</td>\n      <td>10</td>\n      <td>1</td>\n      <td>9</td>\n    </tr>\n    <tr>\n      <th>869076</th>\n      <td>4</td>\n      <td>0</td>\n      <td>0</td>\n      <td>0</td>\n      <td>0</td>\n      <td>6</td>\n      <td>3</td>\n      <td>2012</td>\n      <td>24</td>\n      <td>3</td>\n      <td>...</td>\n      <td>2.98</td>\n      <td>0.0</td>\n      <td>0.0</td>\n      <td>0.000000</td>\n      <td>1.857143</td>\n      <td>0.750000</td>\n      <td>0.642857</td>\n      <td>10</td>\n      <td>1</td>\n      <td>8</td>\n    </tr>\n  </tbody>\n</table>\n<p>5 rows × 25 columns</p>\n</div>"
     },
     "execution_count": 16,
     "metadata": {},
     "output_type": "execute_result"
    }
   ],
   "source": [
    "X_train.head(5)"
   ]
  },
  {
   "cell_type": "code",
   "execution_count": 17,
   "metadata": {},
   "outputs": [
    {
     "data": {
      "text/plain": "869062    0.0\n869063    0.0\n869069    1.0\n869070    2.0\n869076    0.0\nName: sales, dtype: float32"
     },
     "execution_count": 17,
     "metadata": {},
     "output_type": "execute_result"
    }
   ],
   "source": [
    "y_train.head(5)"
   ]
  },
  {
   "attachments": {},
   "cell_type": "markdown",
   "metadata": {},
   "source": [
    "---\n",
    "\n",
    "## 三、模型训练\n",
    "\n",
    "选择 LGB 模型进行模型的训练。\n",
    "\n",
    "[LGB安装](https://blog.csdn.net/u011433858/article/details/80402938)\n",
    "\n",
    "- 损失函数的选择\n",
    "- 预测时候的技巧\n",
    "\n",
    "<img src=\"tweedie.png\" style=\"width:300px;height:200px;float:center\">\n",
    "\n",
    "tweedie_variance_power 参数的选择 [1,2] 之间。\n",
    "\n",
    "LGB 模型是 GBDT 模型的变种，无法突然训练集的上界。"
   ]
  },
  {
   "cell_type": "code",
   "execution_count": 22,
   "metadata": {},
   "outputs": [],
   "source": [
    "def train_model(train_data,valid_data):\n",
    "    params = {\n",
    "        \"objective\" : \"tweedie\",\n",
    "        \"metric\" :\"rmse\",\n",
    "        \"force_row_wise\" : True,\n",
    "        \"learning_rate\" : 0.075,\n",
    "        \"sub_feature\" : 0.8,\n",
    "        \"sub_row\" : 0.75,\n",
    "        \"bagging_freq\" : 1,\n",
    "        \"lambda_l2\" : 0.1,\n",
    "        \"metric\": [\"rmse\"],\n",
    "        \"nthread\": 8,\n",
    "        \"tweedie_variance_power\":1.1,\n",
    "    'verbosity': 1,\n",
    "    'num_iterations' : 1500,\n",
    "    'num_leaves': 128,\n",
    "    \"min_data_in_leaf\": 104,\n",
    "    }\n",
    "\n",
    "    m_lgb = lgb.train(params, train_data, valid_sets = [valid_data], verbose_eval=50)\n",
    "\n",
    "    return m_lgb"
   ]
  },
  {
   "cell_type": "code",
   "execution_count": 23,
   "metadata": {},
   "outputs": [],
   "source": [
    "def predict_ensemble(train_cols,m_lgb):\n",
    "    date = datetime(2016,4, 25) \n",
    "    # alphas = [1.035, 1.03, 1.025, 1.02]\n",
    "    # alphas = [1.028, 1.023, 1.018]\n",
    "    alphas = [1.035, 1.03, 1.025]\n",
    "    weights = [1/len(alphas)]*len(alphas)\n",
    "    sub = 0.\n",
    "\n",
    "    test_data = create_train_data(is_train=False)\n",
    "\n",
    "    for icount, (alpha, weight) in enumerate(zip(alphas, weights)):\n",
    "\n",
    "        test_data_c = test_data.copy()\n",
    "        cols = [f\"F{i}\" for i in range(1,29)]\n",
    "\n",
    "\n",
    "        for i in range(0, 28):\n",
    "            day = date + timedelta(days=i)\n",
    "            print(i, day)\n",
    "            tst = test_data_c[(test_data_c.date >= day - timedelta(days=57)) & (test_data_c.date <= day)].copy()\n",
    "            tst = create_feature(tst,is_train=False, day=day)\n",
    "            tst = tst.loc[tst.date == day , train_cols]\n",
    "\n",
    "            test_data_c.loc[test_data_c.date == day, \"sales\"] = alpha*m_lgb.predict(tst)\n",
    "\n",
    "        # 改为提交数据的格式\n",
    "        test_sub = test_data_c.loc[test_data_c.date >= date, [\"id\", \"sales\"]].copy()\n",
    "        test_sub[\"F\"] = [f\"F{rank}\" for rank in test_sub.groupby(\"id\")[\"id\"].cumcount()+1]\n",
    "        test_sub = test_sub.set_index([\"id\", \"F\" ]).unstack()[\"sales\"][cols].reset_index()\n",
    "        test_sub.fillna(0., inplace = True)\n",
    "        test_sub.sort_values(\"id\", inplace = True)\n",
    "        test_sub.reset_index(drop=True, inplace = True)\n",
    "        test_sub.to_csv(f\"submission_{icount}.csv\",index=False)\n",
    "        if icount == 0 :\n",
    "            sub = test_sub\n",
    "            sub[cols] *= weight\n",
    "        else:\n",
    "            sub[cols] += test_sub[cols]*weight\n",
    "        print(icount, alpha, weight)\n",
    "    \n",
    "    sub2 = sub.copy()\n",
    "    # 把大于28天后的validation替换成evaluation\n",
    "    sub2[\"id\"] = sub2[\"id\"].str.replace(\"validation$\", \"evaluation\")\n",
    "    sub = pd.concat([sub, sub2], axis=0, sort=False)\n",
    "    sub.to_csv(\"submissionV3.csv\",index=False)"
   ]
  },
  {
   "cell_type": "code",
   "execution_count": null,
   "metadata": {
    "pycharm": {
     "is_executing": true
    }
   },
   "outputs": [
    {
     "name": "stderr",
     "output_type": "stream",
     "text": [
      "c:\\users\\huang\\appdata\\local\\programs\\python\\python37\\lib\\site-packages\\lightgbm\\engine.py:148: UserWarning: Found `num_iterations` in params. Will use it instead of argument\n",
      "  warnings.warn(\"Found `{}` in params. Will use it instead of argument\".format(alias))\n",
      "c:\\users\\huang\\appdata\\local\\programs\\python\\python37\\lib\\site-packages\\lightgbm\\basic.py:1291: UserWarning: Using categorical_feature in Dataset.\n",
      "  warnings.warn('Using categorical_feature in Dataset.')\n"
     ]
    },
    {
     "name": "stdout",
     "output_type": "stream",
     "text": [
      "[50]\tvalid_0's rmse: 2.40066\n",
      "[100]\tvalid_0's rmse: 2.41872\n",
      "[150]\tvalid_0's rmse: 2.41239\n",
      "[200]\tvalid_0's rmse: 2.4048\n",
      "[250]\tvalid_0's rmse: 2.40181\n",
      "[300]\tvalid_0's rmse: 2.3877\n",
      "[350]\tvalid_0's rmse: 2.37679\n",
      "[400]\tvalid_0's rmse: 2.36733\n",
      "[450]\tvalid_0's rmse: 2.36101\n",
      "[500]\tvalid_0's rmse: 2.35091\n",
      "[550]\tvalid_0's rmse: 2.33725\n",
      "[600]\tvalid_0's rmse: 2.33412\n",
      "[650]\tvalid_0's rmse: 2.32646\n",
      "[700]\tvalid_0's rmse: 2.328\n",
      "[750]\tvalid_0's rmse: 2.32363\n",
      "[800]\tvalid_0's rmse: 2.31805\n",
      "[850]\tvalid_0's rmse: 2.31585\n",
      "[900]\tvalid_0's rmse: 2.31407\n",
      "[950]\tvalid_0's rmse: 2.31046\n",
      "[1000]\tvalid_0's rmse: 2.30938\n",
      "[1050]\tvalid_0's rmse: 2.30563\n",
      "[1100]\tvalid_0's rmse: 2.30103\n",
      "[1150]\tvalid_0's rmse: 2.29597\n",
      "[1200]\tvalid_0's rmse: 2.29228\n",
      "[1250]\tvalid_0's rmse: 2.29039\n",
      "[1300]\tvalid_0's rmse: 2.29277\n",
      "[1350]\tvalid_0's rmse: 2.28839\n",
      "[1400]\tvalid_0's rmse: 2.28601\n",
      "[1450]\tvalid_0's rmse: 2.28359\n",
      "[1500]\tvalid_0's rmse: 2.28108\n"
     ]
    }
   ],
   "source": [
    "train_data = lgb.Dataset(X_train, label = y_train, categorical_feature=cat_feats, free_raw_data=False)\n",
    "valid_inds = np.random.choice(len(X_train), 10000)\n",
    "valid_data = lgb.Dataset(X_train.iloc[valid_inds], label = y_train.iloc[valid_inds],categorical_feature=cat_feats, free_raw_data=False) \n",
    "\n",
    "m_lgb = train_model(train_data,valid_data) \n",
    "predict_ensemble(train_cols,m_lgb)"
   ]
  },
  {
   "cell_type": "markdown",
   "metadata": {},
   "source": [
    "---\n",
    "## 四、线下验证\n",
    "\n",
    "WRMSSE 的评估方法和 RMSE 很不一致，我们需要拆分出么一条时间序列的权重到底是多少，一方面能帮助我们做线下验证，另一方面可以帮助我们思考能否使用自定义的损失函数。\n",
    "\n",
    "<img src=\"评估指标.jpg\" style=\"width:500px;height:100px;float:center\">\n"
   ]
  },
  {
   "cell_type": "code",
   "execution_count": 26,
   "metadata": {},
   "outputs": [
    {
     "name": "stdout",
     "output_type": "stream",
     "text": [
      "Mem. usage decreased to  0.12 Mb (41.9% reduction)\n",
      "Mem. usage decreased to 130.48 Mb (37.5% reduction)\n",
      "id\n",
      "FOODS_1_001_CA_1_validation        1.153816e-05\n",
      "FOODS_1_001_CA_2_validation        7.733063e-06\n",
      "FOODS_1_001_CA_3_validation        4.491764e-06\n",
      "FOODS_1_001_CA_4_validation        5.327781e-06\n",
      "FOODS_1_001_TX_1_validation        3.212428e-07\n",
      "                                       ...     \n",
      "HOUSEHOLD_2_516_TX_2_validation    1.611728e-05\n",
      "HOUSEHOLD_2_516_TX_3_validation    1.675158e-05\n",
      "HOUSEHOLD_2_516_WI_1_validation    3.829948e-06\n",
      "HOUSEHOLD_2_516_WI_2_validation    5.996927e-06\n",
      "HOUSEHOLD_2_516_WI_3_validation    0.000000e+00\n",
      "Name: sw, Length: 30490, dtype: float64\n"
     ]
    }
   ],
   "source": [
    "import numpy as np\n",
    "import pandas as pd\n",
    "from sklearn.metrics import mean_squared_error\n",
    "from scipy.sparse import csr_matrix\n",
    "import gc\n",
    "\n",
    "# 转换数据类型，减少内存占用空间\n",
    "def reduce_mem_usage(df, verbose=True):\n",
    "    numerics = ['int16', 'int32', 'int64', 'float16', 'float32', 'float64']\n",
    "    start_mem = df.memory_usage().sum() / 1024**2    \n",
    "    for col in df.columns:\n",
    "        col_type = df[col].dtypes\n",
    "        if col_type in numerics: \n",
    "            c_min = df[col].min()\n",
    "            c_max = df[col].max()\n",
    "            if str(col_type)[:3] == 'int':\n",
    "                if c_min > np.iinfo(np.int8).min and c_max < np.iinfo(np.int8).max:\n",
    "                    df[col] = df[col].astype(np.int8)\n",
    "                elif c_min > np.iinfo(np.int16).min and c_max < np.iinfo(np.int16).max:\n",
    "                    df[col] = df[col].astype(np.int16)\n",
    "                elif c_min > np.iinfo(np.int32).min and c_max < np.iinfo(np.int32).max:\n",
    "                    df[col] = df[col].astype(np.int32)\n",
    "                elif c_min > np.iinfo(np.int64).min and c_max < np.iinfo(np.int64).max:\n",
    "                    df[col] = df[col].astype(np.int64)  \n",
    "            else:\n",
    "                if c_min > np.finfo(np.float16).min and c_max < np.finfo(np.float16).max:\n",
    "                    df[col] = df[col].astype(np.float16)\n",
    "                elif c_min > np.finfo(np.float32).min and c_max < np.finfo(np.float32).max:\n",
    "                    df[col] = df[col].astype(np.float32)\n",
    "                else:\n",
    "                    df[col] = df[col].astype(np.float64)    \n",
    "    end_mem = df.memory_usage().sum() / 1024**2\n",
    "    if verbose: print('Mem. usage decreased to {:5.2f} Mb ({:.1f}% reduction)'.format(end_mem, 100 * (start_mem - end_mem) / start_mem))\n",
    "    return df\n",
    "\n",
    "\n",
    "# 加载数据\n",
    "data_pass = '../input/m5-forecasting-accuracy/'\n",
    "\n",
    "# sale数据\n",
    "sales = pd.read_csv(data_pass+'sales_train_validation.csv')\n",
    "\n",
    "# 日期数据\n",
    "calendar = pd.read_csv(data_pass+'calendar.csv')\n",
    "calendar = reduce_mem_usage(calendar)\n",
    "\n",
    "# 价格数据\n",
    "sell_prices = pd.read_csv(data_pass+'sell_prices.csv')\n",
    "sell_prices = reduce_mem_usage(sell_prices)\n",
    "\n",
    "# 计算价格\n",
    "# 按照定义，只需要计算最近的 28 天售卖量（售卖数*价格），通过这个可以得到 weight\n",
    "# 可以不是 1914\n",
    "cols = [\"d_{}\".format(i) for i in range(1914-28, 1914)]\n",
    "data = sales[[\"id\", 'store_id', 'item_id'] + cols]\n",
    "\n",
    "# 从横表改为纵表\n",
    "data = data.melt(id_vars=[\"id\", 'store_id', 'item_id'], \n",
    "                 var_name=\"d\", value_name=\"sale\")\n",
    "\n",
    "# 和日期数据做关联\n",
    "data = pd.merge(data, calendar, how = 'left', \n",
    "                left_on = ['d'], right_on = ['d'])\n",
    "\n",
    "data = data[[\"id\", 'store_id', 'item_id', \"sale\", \"d\", \"wm_yr_wk\"]]\n",
    "\n",
    "# 和价格数据关联\n",
    "data = data.merge(sell_prices, on = ['store_id', 'item_id', 'wm_yr_wk'], how = 'left')\n",
    "data.drop(columns = ['wm_yr_wk'], inplace=True)\n",
    "\n",
    "# 计算售卖量\n",
    "data['sale_usd'] = data['sale'] * data['sell_price']\n",
    "\n",
    "# 得到聚合矩阵\n",
    "# 30490 -> 42840\n",
    "# 需要聚合的维度明细计算出来\n",
    "dummies_list = [sales.state_id, sales.store_id, \n",
    "                sales.cat_id, sales.dept_id, \n",
    "                sales.state_id + sales.cat_id, sales.state_id + sales.dept_id,\n",
    "                sales.store_id + sales.cat_id, sales.store_id + sales.dept_id, \n",
    "                sales.item_id, sales.state_id + sales.item_id, sales.id]\n",
    "\n",
    "\n",
    "# 全部聚合为一个， 最高 level\n",
    "dummies_df_list =[pd.DataFrame(np.ones(sales.shape[0]).astype(np.int8), \n",
    "                               index=sales.index, columns=['all']).T]\n",
    "\n",
    "# 挨个计算其他 level 等级聚合\n",
    "for i, cats in enumerate(dummies_list):\n",
    "    dummies_df_list +=[pd.get_dummies(cats, drop_first=False, dtype=np.int8).T]\n",
    "    \n",
    "# 得到聚合矩阵\n",
    "roll_mat_df = pd.concat(dummies_df_list, keys=list(range(12)), \n",
    "                        names=['level','id'])#.astype(np.int8, copy=False)\n",
    "\n",
    "# 保存聚合矩阵\n",
    "roll_index = roll_mat_df.index\n",
    "roll_mat_csr = csr_matrix(roll_mat_df.values)\n",
    "roll_mat_df.to_pickle('roll_mat_df.pkl')\n",
    "\n",
    "# 释放内存\n",
    "del dummies_df_list, roll_mat_df\n",
    "gc.collect()\n",
    "\n",
    "\n",
    "# 按照定义，计算每条时间序列 RMSSE 的权重:\n",
    "def get_s(drop_days=0):\n",
    "    \n",
    "    \"\"\"\n",
    "    drop_days: int, equals 0 by default, so S is calculated on all data.\n",
    "               If equals 28, last 28 days won't be used in calculating S.\n",
    "    \"\"\"\n",
    "    \n",
    "    # 要计算的时间序列长度\n",
    "    d_name = ['d_' + str(i+1) for i in range(1913-drop_days)]\n",
    "    # 得到聚合结果\n",
    "    sales_train_val = roll_mat_csr * sales[d_name].values\n",
    "\n",
    "    # 按照定义，前面连续为 0 的不参与计算\n",
    "    start_no = np.argmax(sales_train_val>0, axis=1)\n",
    "    \n",
    "    # 这些连续为 0 的设置为 nan\n",
    "    flag = np.dot(np.diag(1/(start_no+1)) , np.tile(np.arange(1,1914-drop_days),(roll_mat_csr.shape[0],1)))<1\n",
    "    sales_train_val = np.where(flag, np.nan, sales_train_val)\n",
    "\n",
    "    # 根据公式计算每条时间序列 rmsse的权重\n",
    "    weight1 = np.nansum(np.diff(sales_train_val,axis=1)**2,axis=1)/(1913-start_no-1)\n",
    "    \n",
    "    return weight1\n",
    "\n",
    "S = get_s(drop_days=0)\n",
    "\n",
    "# 根据定义计算 WRMSSE 的权重，这里指 w \n",
    "def get_w(sale_usd):\n",
    "    \"\"\"\n",
    "    \"\"\"\n",
    "    # 得到最细维度的每条时间序列的权重\n",
    "    total_sales_usd = sale_usd.groupby(\n",
    "        ['id'], sort=False)['sale_usd'].apply(np.sum).values\n",
    "    \n",
    "    # 通过聚合矩阵得到不同聚合下的权重\n",
    "    weight2 = roll_mat_csr * total_sales_usd\n",
    "    \n",
    "    return 12*weight2/np.sum(weight2)\n",
    "\n",
    "\n",
    "W = get_w(data[['id','sale_usd']])\n",
    "\n",
    "SW = W/np.sqrt(S)\n",
    "\n",
    "sw_df = pd.DataFrame(np.stack((S, W, SW), axis=-1),index = roll_index,columns=['s','w','sw'])\n",
    "sw_df.to_pickle('sw_df.pkl')\n",
    "\n",
    "# 评分函数\n",
    "# 得到聚合的结果\n",
    "def rollup(v):\n",
    "    '''\n",
    "    '''\n",
    "    return (v.T*roll_mat_csr.T).T\n",
    "\n",
    "\n",
    "# 计算 WRMSSE 评估指标\n",
    "def wrmsse(preds, y_true, score_only=False, s = S, w = W, sw=SW):\n",
    "    '''\n",
    "    preds - Predictions: pd.DataFrame of size (30490 rows, N day columns)\n",
    "    y_true - True values: pd.DataFrame of size (30490 rows, N day columns)\n",
    "    sequence_length - np.array of size (42840,)\n",
    "    sales_weight - sales weights based on last 28 days: np.array (42840,)\n",
    "    '''\n",
    "    \n",
    "    if score_only:\n",
    "        return np.sum(\n",
    "                np.sqrt(\n",
    "                    np.mean(\n",
    "                        np.square(rollup(preds.values-y_true.values))\n",
    "                            ,axis=1)) * sw *12)\n",
    "    else: \n",
    "        score_matrix = (np.square(rollup(preds.values-y_true.values)) * np.square(w)[:, None]) *12 / s[:, None]\n",
    "        score = np.sum(np.sqrt(np.mean(score_matrix,axis=1)))\n",
    "        return score, score_matrix\n",
    "\n",
    "\n",
    "# 加载前面预先计算好的各个权重\n",
    "file_pass = './'\n",
    "sw_df = pd.read_pickle(file_pass+'sw_df.pkl')\n",
    "S = sw_df.s.values\n",
    "W = sw_df.w.values\n",
    "SW = sw_df.sw.values\n",
    "\n",
    "roll_mat_df = pd.read_pickle(file_pass+'roll_mat_df.pkl')\n",
    "roll_index = roll_mat_df.index\n",
    "roll_mat_csr = csr_matrix(roll_mat_df.values)\n",
    "\n",
    "print(sw_df.loc[(11,slice(None))].sw)"
   ]
  },
  {
   "cell_type": "code",
   "execution_count": 27,
   "metadata": {},
   "outputs": [
    {
     "data": {
      "text/plain": "0.0004261667790116152"
     },
     "execution_count": 27,
     "metadata": {},
     "output_type": "execute_result"
    }
   ],
   "source": [
    "np.max(sw_df.loc[(11,slice(None))].sw)"
   ]
  },
  {
   "cell_type": "code",
   "execution_count": null,
   "metadata": {},
   "outputs": [],
   "source": []
  }
 ],
 "metadata": {
  "hide_input": false,
  "kernelspec": {
   "name": "python3",
   "language": "python",
   "display_name": "Python 3"
  },
  "language_info": {
   "codemirror_mode": {
    "name": "ipython",
    "version": 3
   },
   "file_extension": ".py",
   "mimetype": "text/x-python",
   "name": "python",
   "nbconvert_exporter": "python",
   "pygments_lexer": "ipython3",
   "version": "3.6.8"
  },
  "varInspector": {
   "cols": {
    "lenName": 16,
    "lenType": 16,
    "lenVar": 40
   },
   "kernels_config": {
    "python": {
     "delete_cmd_postfix": "",
     "delete_cmd_prefix": "del ",
     "library": "var_list.py",
     "varRefreshCmd": "print(var_dic_list())"
    },
    "r": {
     "delete_cmd_postfix": ") ",
     "delete_cmd_prefix": "rm(",
     "library": "var_list.r",
     "varRefreshCmd": "cat(var_dic_list()) "
    }
   },
   "types_to_exclude": [
    "module",
    "function",
    "builtin_function_or_method",
    "instance",
    "_Feature"
   ],
   "window_display": false
  }
 },
 "nbformat": 4,
 "nbformat_minor": 2
}